{
 "metadata": {
  "language_info": {
   "codemirror_mode": {
    "name": "ipython",
    "version": 3
   },
   "file_extension": ".py",
   "mimetype": "text/x-python",
   "name": "python",
   "nbconvert_exporter": "python",
   "pygments_lexer": "ipython3",
   "version": "3.8.5-final"
  },
  "orig_nbformat": 2,
  "kernelspec": {
   "name": "python38564bitpoemmakervenvf4b839b1c17a4dd9b65fca813365c866",
   "display_name": "Python 3.8.5 64-bit ('poem_maker': venv)",
   "language": "python"
  }
 },
 "nbformat": 4,
 "nbformat_minor": 2,
 "cells": [
  {
   "cell_type": "code",
   "execution_count": 4,
   "metadata": {},
   "outputs": [],
   "source": [
    "import os"
   ]
  },
  {
   "source": [
    "## Preparing data\n",
    "\n",
    "We have downloaded the data from the **Ref. 2** which can be found [here](doc/references.md)."
   ],
   "cell_type": "markdown",
   "metadata": {}
  },
  {
   "cell_type": "code",
   "execution_count": 6,
   "metadata": {},
   "outputs": [
    {
     "output_type": "stream",
     "name": "stdout",
     "text": [
      "1609\n\nTHE SONNETS\n\nby William Shakespeare\n\n\n\n                     1\n  From fairest creatures we desi\n"
     ]
    }
   ],
   "source": [
    "# open text file and read in data as `text`\n",
    "with open('data/sonnet_shakespeare.txt', 'r') as f:\n",
    "    text = f.read()\n",
    "print(text[0:100])"
   ]
  },
  {
   "cell_type": "code",
   "execution_count": 12,
   "metadata": {
    "tags": []
   },
   "outputs": [
    {
     "output_type": "stream",
     "name": "stdout",
     "text": [
      "['\\n', 'F', 'r', 'o', 'm', 'f', 'a', 'i', 'r', 'e']\n"
     ]
    }
   ],
   "source": [
    "def initial_process_text(text):\n",
    "    \"\"\" Process specific characteristics from the text, like\n",
    "    the title of the book, etc.\n",
    "    \"\"\"\n",
    "    text = text[61:]\n",
    "    # Cleaning every number from the sonnets\n",
    "    text = [c for c in text if c not in str(list(range(1,160)))]\n",
    "    return text\n",
    "print(initial_process_text(text)[0:10])"
   ]
  },
  {
   "cell_type": "code",
   "execution_count": null,
   "metadata": {},
   "outputs": [],
   "source": []
  }
 ]
}