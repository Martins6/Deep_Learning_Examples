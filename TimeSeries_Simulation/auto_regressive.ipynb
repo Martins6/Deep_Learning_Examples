{
 "cells": [
  {
   "cell_type": "markdown",
   "metadata": {},
   "source": [
    "# RNN of an Auto-Regressive Process"
   ]
  },
  {
   "cell_type": "code",
   "execution_count": 1,
   "metadata": {},
   "outputs": [],
   "source": [
    "# data wrangling\n",
    "import pandas as pd \n",
    "import numpy as np \n",
    "\n",
    "# pytorch framework\n",
    "import torch\n",
    "import torch.nn as nn\n",
    "import torch.nn.functional as F\n",
    "from torch import optim\n",
    "\n",
    "from torch.utils.data import Dataset, DataLoader, random_split\n",
    "from torchvision import transforms, utils\n",
    "\n",
    "# pytorch-lightning framework\n",
    "import pytorch_lightning as pl\n",
    "\n",
    "# data viz\n",
    "import matplotlib.pyplot as plt\n",
    "import seaborn as sns\n",
    "\n",
    "# utils\n",
    "import os"
   ]
  },
  {
   "cell_type": "markdown",
   "metadata": {},
   "source": [
    "# Data wrangling"
   ]
  },
  {
   "cell_type": "markdown",
   "metadata": {},
   "source": [
    "## Generating and Preparing Data"
   ]
  },
  {
   "cell_type": "code",
   "execution_count": 10,
   "metadata": {},
   "outputs": [
    {
     "data": {
      "text/plain": [
       "<AxesSubplot:xlabel='n', ylabel='y'>"
      ]
     },
     "execution_count": 10,
     "metadata": {},
     "output_type": "execute_result"
    },
    {
     "data": {
      "image/png": "[encoded data removed]",
      "text/plain": [
       "<Figure size 432x288 with 1 Axes>"
      ]
     },
     "metadata": {
      "needs_background": "light"
     },
     "output_type": "display_data"
    }
   ],
   "source": [
    "n = 101\n",
    "rng = np.random.default_rng()\n",
    "x = np.sin(range(n))\n",
    "white_noise = rng.normal(0,1, n)\n",
    "\n",
    "def ar1_seq(original_seq, coef, noise):\n",
    "    \"\"\" Create a autoregressive of 1 step given an original sequence.\n",
    "    y[n] = coef*y[n-1] + noise.\n",
    "\n",
    "    returns: numpy.array\n",
    "    \"\"\"\n",
    "    y = []\n",
    "    for index, value in enumerate(original_seq):\n",
    "        new_value =  value + coef*x[index - 1]\n",
    "        y.append(new_value)\n",
    "\n",
    "    y = np.array(y) + noise\n",
    "\n",
    "    return(y)\n",
    "\n",
    "\n",
    "y = ar1_seq(x, 0.5, white_noise)\n",
    "y = np.arange(y.shape[0]) + y\n",
    "\n",
    "# Check plotting data\n",
    "df = pd.DataFrame({\n",
    "    'y': y,\n",
    "    'n': range(n)\n",
    "})\n",
    "\n",
    "sns.lineplot(data=df, x='n', y='y')"
   ]
  },
  {
   "cell_type": "markdown",
   "metadata": {},
   "source": [
    "## building dataloaders"
   ]
  },
  {
   "cell_type": "code",
   "execution_count": 31,
   "metadata": {},
   "outputs": [
    {
     "name": "stdout",
     "output_type": "stream",
     "text": [
      "          y  n\n",
      "0  0.543492  0\n",
      "1  0.649220  1\n",
      "2  2.709189  2\n",
      "3  4.175440  3\n",
      "tensor([0.5435, 0.6492, 2.7092]) tensor([4.1754])\n",
      "          y  n\n",
      "1  0.649220  1\n",
      "2  2.709189  2\n",
      "3  4.175440  3\n",
      "4  3.186770  4\n",
      "tensor([0.6492, 2.7092, 4.1754]) tensor([3.1868])\n",
      "          y  n\n",
      "2  2.709189  2\n",
      "3  4.175440  3\n",
      "4  3.186770  4\n",
      "5  3.209380  5\n",
      "tensor([2.7092, 4.1754, 3.1868]) tensor([3.2094])\n"
     ]
    }
   ],
   "source": [
    "class ToTensor(object):\n",
    "    def __call__(self, sample):\n",
    "        return {\n",
    "            'x': torch.from_numpy(sample['x']).float(),\n",
    "            'y': torch.from_numpy(sample['y']).float()\n",
    "        }\n",
    "\n",
    "\n",
    "class SequenceData(Dataset):\n",
    "    def __init__(self, y:np.array, transform=None, k:int=1):\n",
    "        \n",
    "        self.y = y.copy()\n",
    "        self.transform = transform\n",
    "        self.k = k\n",
    "    \n",
    "    def __len__(self):\n",
    "        return len(self.y)-self.k\n",
    "    \n",
    "    def __getitem__(self, idx):\n",
    "        if torch.is_tensor(idx):\n",
    "            idx = idx.tolist()\n",
    "        k = self.k\n",
    "        \n",
    "        sample = {}\n",
    "\n",
    "        sample['y'] = self.y[[idx+k]]\n",
    "        sample['x'] = self.y[(idx):(idx+k)]\n",
    "\n",
    "        if self.transform:\n",
    "            sample = self.transform(sample)\n",
    "        \n",
    "        return sample\n",
    "        \n",
    "K = 3\n",
    "seq_dataset = SequenceData(\n",
    "    y = df['y'].to_numpy(),\n",
    "    transform=ToTensor(),\n",
    "    k = K\n",
    ")\n",
    "\n",
    "for index, i in enumerate(seq_dataset):\n",
    "    y, x = i['y'], i['x']\n",
    "    print(df.iloc[index:(index + K + 1)])\n",
    "    print(x, y)\n",
    "    if index == 2:\n",
    "        break"
   ]
  },
  {
   "cell_type": "code",
   "execution_count": 26,
   "metadata": {},
   "outputs": [
    {
     "data": {
      "text/plain": [
       "98"
      ]
     },
     "execution_count": 26,
     "metadata": {},
     "output_type": "execute_result"
    }
   ],
   "source": [
    "len(seq_dataset)"
   ]
  },
  {
   "cell_type": "code",
   "execution_count": 32,
   "metadata": {},
   "outputs": [
    {
     "name": "stdout",
     "output_type": "stream",
     "text": [
      "78 20\n"
     ]
    }
   ],
   "source": [
    "train_n = int(len(seq_dataset) * 0.8)\n",
    "test_n = len(seq_dataset) - train_n\n",
    "\n",
    "train_dataset, val_dataset = random_split(seq_dataset, lengths=[train_n, test_n])\n",
    "print(len(train_dataset), len(val_dataset))\n",
    "\n",
    "dataset_dict = {\n",
    "    'train': train_dataset,\n",
    "    'val': val_dataset\n",
    "}"
   ]
  },
  {
   "cell_type": "code",
   "execution_count": 39,
   "metadata": {},
   "outputs": [
    {
     "name": "stdout",
     "output_type": "stream",
     "text": [
      "[{'x': tensor([18.2250, 20.9351, 21.2813]), 'y': tensor([22.0110])}, {'x': tensor([59.2256, 59.5687, 59.9932]), 'y': tensor([59.1751])}, {'x': tensor([3.1868, 3.2094, 5.2852]), 'y': tensor([7.5151])}, {'x': tensor([88.6560, 91.7475, 92.3097]), 'y': tensor([91.8328])}, {'x': tensor([67.4362, 66.6622, 65.9707]), 'y': tensor([67.4885])}, {'x': tensor([ 9.2789, 10.9864,  9.0994]), 'y': tensor([10.0315])}, {'x': tensor([83.4104, 84.7990, 84.3844]), 'y': tensor([87.1164])}, {'x': tensor([46.3513, 48.7150, 47.9963]), 'y': tensor([49.1482])}, {'x': tensor([5.2852, 7.5151, 9.2789]), 'y': tensor([10.9864])}, {'x': tensor([17.6049, 18.2250, 20.9351]), 'y': tensor([21.2813])}][{'x': tensor([46.4879, 48.5747, 46.3513]), 'y': tensor([48.7150])}, {'x': tensor([87.1164, 85.6650, 87.7189]), 'y': tensor([88.6560])}, {'x': tensor([59.5687, 59.9932, 59.1751]), 'y': tensor([60.9490])}, {'x': tensor([0.5435, 0.6492, 2.7092]), 'y': tensor([4.1754])}, {'x': tensor([47.9963, 49.1482, 51.2105]), 'y': tensor([52.9564])}, {'x': tensor([62.1676, 65.5645, 67.4362]), 'y': tensor([66.6622])}, {'x': tensor([40.4298, 40.5810, 45.0669]), 'y': tensor([46.4879])}, {'x': tensor([15.6628, 15.4494, 17.6049]), 'y': tensor([18.2250])}, {'x': tensor([21.2813, 22.0110, 21.6482]), 'y': tensor([23.7182])}, {'x': tensor([77.5815, 78.3890, 78.3332]), 'y': tensor([81.4088])}]\n",
      "[{'x': tensor([55.2117, 52.9912, 55.2369]), 'y': tensor([57.1580])}, {'x': tensor([ 9.0994, 10.0315, 11.6143]), 'y': tensor([12.6700])}, {'x': tensor([94.3080, 96.2970, 98.0279]), 'y': tensor([96.1165])}, {'x': tensor([39.5641, 41.3891, 42.8877]), 'y': tensor([40.4298])}, {'x': tensor([12.6700, 15.7408, 16.6475]), 'y': tensor([15.6628])}, {'x': tensor([51.2105, 52.9564, 55.3433]), 'y': tensor([55.2117])}, {'x': tensor([57.1580, 59.2256, 59.5687]), 'y': tensor([59.9932])}, {'x': tensor([38.5514, 39.5641, 41.3891]), 'y': tensor([42.8877])}, {'x': tensor([11.6143, 12.6700, 15.7408]), 'y': tensor([16.6475])}, {'x': tensor([48.5747, 46.3513, 48.7150]), 'y': tensor([47.9963])}]\n",
      "[{'x': tensor([23.9168, 26.3149, 27.7379]), 'y': tensor([28.3003])}, {'x': tensor([36.1979, 35.3718, 35.0090]), 'y': tensor([38.0968])}, {'x': tensor([81.4088, 82.7485, 83.4104]), 'y': tensor([84.7990])}, {'x': tensor([55.3433, 55.2117, 52.9912]), 'y': tensor([55.2369])}, {'x': tensor([59.1751, 60.9490, 62.1676]), 'y': tensor([65.5645])}, {'x': tensor([92.0718, 94.3080, 96.2970]), 'y': tensor([98.0279])}, {'x': tensor([59.9932, 59.1751, 60.9490]), 'y': tensor([62.1676])}, {'x': tensor([65.9707, 67.4885, 68.8600]), 'y': tensor([71.3933])}, {'x': tensor([68.8600, 71.3933, 73.0532]), 'y': tensor([71.3511])}, {'x': tensor([41.3891, 42.8877, 40.4298]), 'y': tensor([40.5810])}][{'x': tensor([96.1165, 96.3536, 97.9298]), 'y': tensor([98.5831])}, {'x': tensor([73.5961, 72.8237, 73.8692]), 'y': tensor([75.9838])}, {'x': tensor([66.6622, 65.9707, 67.4885]), 'y': tensor([68.8600])}, {'x': tensor([0.6492, 2.7092, 4.1754]), 'y': tensor([3.1868])}, {'x': tensor([27.7379, 28.3003, 28.9932]), 'y': tensor([29.5433])}, {'x': tensor([98.0279, 96.1165, 96.3536]), 'y': tensor([97.9298])}, {'x': tensor([92.3097, 91.8328, 92.0718]), 'y': tensor([94.3080])}, {'x': tensor([45.0669, 46.4879, 48.5747]), 'y': tensor([46.3513])}, {'x': tensor([78.1003, 77.5815, 78.3890]), 'y': tensor([78.3332])}, {'x': tensor([78.3332, 81.4088, 82.7485]), 'y': tensor([83.4104])}][{'x': tensor([55.2369, 57.1580, 59.2256]), 'y': tensor([59.5687])}, {'x': tensor([72.8237, 73.8692, 75.9838]), 'y': tensor([78.1003])}, {'x': tensor([16.6475, 15.6628, 15.4494]), 'y': tensor([17.6049])}, {'x': tensor([31.8969, 34.2133, 36.1979]), 'y': tensor([35.3718])}, {'x': tensor([84.3844, 87.1164, 85.6650]), 'y': tensor([87.7189])}, {'x': tensor([96.2970, 98.0279, 96.1165]), 'y': tensor([96.3536])}, {'x': tensor([91.7475, 92.3097, 91.8328]), 'y': tensor([92.0718])}, {'x': tensor([28.3003, 28.9932, 29.5433]), 'y': tensor([31.2847])}, {'x': tensor([49.1482, 51.2105, 52.9564]), 'y': tensor([55.3433])}, {'x': tensor([21.6482, 23.7182, 23.9168]), 'y': tensor([26.3149])}]\n",
      "[{'x': tensor([73.0532, 71.3511, 73.5961]), 'y': tensor([72.8237])}, {'x': tensor([34.2133, 36.1979, 35.3718]), 'y': tensor([35.0090])}, {'x': tensor([40.5810, 45.0669, 46.4879]), 'y': tensor([48.5747])}, {'x': tensor([87.7189, 88.6560, 91.7475]), 'y': tensor([92.3097])}, {'x': tensor([91.8328, 92.0718, 94.3080]), 'y': tensor([96.2970])}, {'x': tensor([20.9351, 21.2813, 22.0110]), 'y': tensor([21.6482])}, {'x': tensor([75.9838, 78.1003, 77.5815]), 'y': tensor([78.3890])}, {'x': tensor([65.5645, 67.4362, 66.6622]), 'y': tensor([65.9707])}, {'x': tensor([29.5433, 31.2847, 31.8969]), 'y': tensor([34.2133])}, {'x': tensor([15.7408, 16.6475, 15.6628]), 'y': tensor([15.4494])}]\n",
      "\n",
      "\n",
      "[{'x': tensor([10.0315, 11.6143, 12.6700]), 'y': tensor([15.7408])}, {'x': tensor([4.1754, 3.1868, 3.2094]), 'y': tensor([5.2852])}, {'x': tensor([22.0110, 21.6482, 23.7182]), 'y': tensor([23.9168])}, {'x': tensor([82.7485, 83.4104, 84.7990]), 'y': tensor([84.3844])}, {'x': tensor([84.7990, 84.3844, 87.1164]), 'y': tensor([85.6650])}, {'x': tensor([42.8877, 40.4298, 40.5810]), 'y': tensor([45.0669])}, {'x': tensor([35.3718, 35.0090, 38.0968]), 'y': tensor([38.5514])}, {'x': tensor([71.3933, 73.0532, 71.3511]), 'y': tensor([73.5961])}]\n",
      "\n"
     ]
    },
    {
     "ename": "TypeError",
     "evalue": "'NoneType' object is not subscriptable",
     "output_type": "error",
     "traceback": [
      "\u001b[0;31m---------------------------------------------------------------------------\u001b[0m",
      "\u001b[0;31mTypeError\u001b[0m                                 Traceback (most recent call last)",
      "\u001b[0;32m<ipython-input-39-747eb6f81ddc>\u001b[0m in \u001b[0;36m<module>\u001b[0;34m\u001b[0m\n\u001b[1;32m     10\u001b[0m \u001b[0;34m\u001b[0m\u001b[0m\n\u001b[1;32m     11\u001b[0m \u001b[0;32mfor\u001b[0m \u001b[0mindex\u001b[0m\u001b[0;34m,\u001b[0m \u001b[0mi\u001b[0m \u001b[0;32min\u001b[0m \u001b[0menumerate\u001b[0m\u001b[0;34m(\u001b[0m\u001b[0mseq_dataloader\u001b[0m\u001b[0;34m)\u001b[0m\u001b[0;34m:\u001b[0m\u001b[0;34m\u001b[0m\u001b[0;34m\u001b[0m\u001b[0m\n\u001b[0;32m---> 12\u001b[0;31m     \u001b[0my\u001b[0m\u001b[0;34m,\u001b[0m \u001b[0mx\u001b[0m \u001b[0;34m=\u001b[0m \u001b[0mi\u001b[0m\u001b[0;34m[\u001b[0m\u001b[0;34m'y'\u001b[0m\u001b[0;34m]\u001b[0m\u001b[0;34m,\u001b[0m \u001b[0mi\u001b[0m\u001b[0;34m[\u001b[0m\u001b[0;34m'x'\u001b[0m\u001b[0;34m]\u001b[0m\u001b[0;34m\u001b[0m\u001b[0;34m\u001b[0m\u001b[0m\n\u001b[0m\u001b[1;32m     13\u001b[0m     \u001b[0;31m# print(df.iloc[index:(index + K + 1)])\u001b[0m\u001b[0;34m\u001b[0m\u001b[0;34m\u001b[0m\u001b[0;34m\u001b[0m\u001b[0m\n\u001b[1;32m     14\u001b[0m     \u001b[0mprint\u001b[0m\u001b[0;34m(\u001b[0m\u001b[0mx\u001b[0m\u001b[0;34m,\u001b[0m \u001b[0my\u001b[0m\u001b[0;34m)\u001b[0m\u001b[0;34m\u001b[0m\u001b[0;34m\u001b[0m\u001b[0m\n",
      "\u001b[0;31mTypeError\u001b[0m: 'NoneType' object is not subscriptable"
     ]
    }
   ],
   "source": [
    "def pad_collate(batch):\n",
    "    print(batch)\n",
    "\n",
    "seq_dataloader = DataLoader(\n",
    "    dataset_dict['train'],\n",
    "    batch_size=10,\n",
    "    num_workers=os.cpu_count(),\n",
    "    collate_fn=pad_collate\n",
    ")\n",
    "\n",
    "for index, i in enumerate(seq_dataloader):\n",
    "    y, x = i['y'], i['x']\n",
    "    # print(df.iloc[index:(index + K + 1)])\n",
    "    print(x, y)\n",
    "    print(x.shape, y.shape)\n",
    "    if index == 2:\n",
    "        break"
   ]
  },
  {
   "cell_type": "markdown",
   "metadata": {},
   "source": [
    "# Modelling"
   ]
  },
  {
   "cell_type": "code",
   "execution_count": 8,
   "metadata": {},
   "outputs": [
    {
     "name": "stderr",
     "output_type": "stream",
     "text": [
      "GPU available: False, used: False\n",
      "TPU available: False, using: 0 TPU cores\n",
      "IPU available: False, using: 0 IPUs\n",
      "\n",
      "  | Name      | Type    | Params\n",
      "--------------------------------------\n",
      "0 | criterion | MSELoss | 0     \n",
      "1 | rnn       | RNN     | 10    \n",
      "2 | fc        | Linear  | 3     \n",
      "--------------------------------------\n",
      "13        Trainable params\n",
      "0         Non-trainable params\n",
      "13        Total params\n",
      "0.000     Total estimated model params size (MB)\n"
     ]
    },
    {
     "name": "stdout",
     "output_type": "stream",
     "text": [
      "Epoch 29: 100%|██████████| 80/80 [00:01<00:00, 73.21it/s, loss=1.75, v_num=3] \n"
     ]
    }
   ],
   "source": [
    "class RNN(pl.LightningModule):\n",
    "    def __init__(self, input_size, output_size, hidden_dim, n_layers, dataset_dict):\n",
    "        super(RNN, self).__init__()\n",
    "\n",
    "        self.dataset_dict = dataset_dict\n",
    "\n",
    "        self.criterion = nn.MSELoss()\n",
    "\n",
    "        self.hidden_dim=hidden_dim\n",
    "        self.n_layers = n_layers\n",
    "        self.hidden = None\n",
    "\n",
    "        self.rnn = nn.RNN(input_size, hidden_dim, n_layers, batch_first=True)\n",
    "\n",
    "        self.fc = nn.Linear(hidden_dim, output_size)\n",
    "        \n",
    "    def forward(self, x):\n",
    "        # x (batch_size, seq_length, input_size)\n",
    "        # hidden (n_layers, batch_size, hidden_dim)\n",
    "        # rnn_out_raw (batch_size, time_step, hidden_size)\n",
    "        # rnn_out (batch_size * seq_length, hidden_size)\n",
    "\n",
    "        x = x.unsqueeze(-1)\n",
    "\n",
    "        rnn_out_raw, hidden = self.rnn(x, self.hidden)\n",
    "        print(rnn_out_raw)\n",
    "        \n",
    "        # final output transformation\n",
    "        rnn_out = rnn_out_raw.view(-1, self.hidden_dim)\n",
    "        output = self.fc(rnn_out)\n",
    "        \n",
    "        return output, hidden\n",
    "    \n",
    "    def training_step(self, batch, batch_idx):\n",
    "        x, y = batch['x'], batch['y']\n",
    "\n",
    "        y_hat, self.hidden = self(x)\n",
    "\n",
    "        self.hidden = self.hidden.data\n",
    "\n",
    "        loss = self.criterion(y, y_hat)\n",
    "        self.log(\"train_loss\", loss)\n",
    "        return loss\n",
    "\n",
    "    def configure_optimizers(self):\n",
    "        optimizer = torch.optim.Adam(self.parameters(), lr=1e-2)\n",
    "        return optimizer\n",
    "    \n",
    "    def train_dataloader(self):\n",
    "        return DataLoader(self.dataset_dict['train'], batch_size=10, num_workers=os.cpu_count())\n",
    "    \n",
    "    # def val_dataloader(self):\n",
    "    #     return DataLoader(self.dataset_dict['val'], batch_size=10, num_workers=os.cpu_count())\n",
    "\n",
    "model = RNN(\n",
    "    input_size=1,\n",
    "    output_size=1,\n",
    "    hidden_dim=2,\n",
    "    n_layers=1,\n",
    "    dataset_dict=dataset_dict\n",
    "    \n",
    ")\n",
    "\n",
    "trainer = pl.Trainer(\n",
    "    default_root_dir='../',\n",
    "    #log_every_n_steps=5,\n",
    "    max_epochs=30,\n",
    "    enable_progress_bar=True\n",
    ")\n",
    "\n",
    "trainer.fit(model)"
   ]
  },
  {
   "cell_type": "code",
   "execution_count": null,
   "metadata": {},
   "outputs": [],
   "source": [
    "x = "
   ]
  }
 ],
 "metadata": {
  "kernelspec": {
   "display_name": "Python 3",
   "name": "python3"
  },
  "language_info": {
   "codemirror_mode": {
    "name": "ipython",
    "version": 3
   },
   "file_extension": ".py",
   "mimetype": "text/x-python",
   "name": "python",
   "nbconvert_exporter": "python",
   "pygments_lexer": "ipython3",
   "version": "3.8.10"
  },
  "orig_nbformat": 2
 },
 "nbformat": 4,
 "nbformat_minor": 2
}
