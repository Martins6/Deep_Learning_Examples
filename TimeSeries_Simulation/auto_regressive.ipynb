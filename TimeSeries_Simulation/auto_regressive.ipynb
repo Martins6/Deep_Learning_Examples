{
 "metadata": {
  "language_info": {
   "codemirror_mode": {
    "name": "ipython",
    "version": 3
   },
   "file_extension": ".py",
   "mimetype": "text/x-python",
   "name": "python",
   "nbconvert_exporter": "python",
   "pygments_lexer": "ipython3",
   "version": "3.8.6-final"
  },
  "orig_nbformat": 2,
  "kernelspec": {
   "name": "python3",
   "display_name": "Python 3"
  }
 },
 "nbformat": 4,
 "nbformat_minor": 2,
 "cells": [
  {
   "source": [
    "# RNN of a Random Time Series"
   ],
   "cell_type": "markdown",
   "metadata": {}
  },
  {
   "cell_type": "code",
   "execution_count": null,
   "metadata": {},
   "outputs": [],
   "source": [
    "# Data manipulation\n",
    "import pandas as pd \n",
    "import numpy as np \n",
    "\n",
    "# For preprocessing data\n",
    "from sklearn import preprocessing\n",
    "from sklearn.model_selection import train_test_split\n",
    "\n",
    "# Neural Network\n",
    "import torch\n",
    "import torch.nn as nn\n",
    "import torch.nn.functional as F\n",
    "from torch import optim\n",
    "\n",
    "## Plotting data\n",
    "from plotnine import *"
   ]
  },
  {
   "source": [
    "## Generating and Preparing Data"
   ],
   "cell_type": "markdown",
   "metadata": {}
  },
  {
   "cell_type": "code",
   "execution_count": null,
   "metadata": {},
   "outputs": [],
   "source": [
    "n = 100\n",
    "rng = np.random.default_rng()\n",
    "\n",
    "x = np.sin(range(n))\n",
    "white_noise = rng.normal(0,1, n)\n",
    "\n",
    "def ar1_seq(original_seq, coef, noise):\n",
    "    \"\"\" Create a autoregressive of 1 step given an original sequence.\n",
    "    y[n] = coef*y[n-1] + noise.\n",
    "\n",
    "    returns: numpy.array\n",
    "    \"\"\"\n",
    "    y = []\n",
    "    for index, value in enumerate(x):\n",
    "        new_value =  value + 0.5*x[index - 1]\n",
    "        y.append(new_value)\n",
    "\n",
    "    y = np.array(y) + white_noise\n",
    "\n",
    "    return(y)\n",
    "\n",
    "\n",
    "y = ar1_seq(x, 0.5, white_noise)\n",
    "\n",
    "# Check plotting data\n",
    "df = pd.DataFrame({\n",
    "    'y': y,\n",
    "    'n': range(n)\n",
    "})\n",
    "\n",
    "(\n",
    "    ggplot(df) \n",
    "    + aes(y='y', x='x') \n",
    "    + geom_line()\n",
    ")\n"
   ]
  },
  {
   "cell_type": "code",
   "execution_count": null,
   "metadata": {},
   "outputs": [],
   "source": []
  }
 ]
}