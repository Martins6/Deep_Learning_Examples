{
 "cells": [
  {
   "cell_type": "markdown",
   "metadata": {},
   "source": [
    "# RNN of an Auto-Regressive Process"
   ]
  },
  {
   "cell_type": "code",
   "execution_count": 1,
   "metadata": {},
   "outputs": [],
   "source": [
    "# data wrangling\n",
    "import pandas as pd \n",
    "import numpy as np\n",
    "\n",
    "from sklearn.preprocessing import MinMaxScaler\n",
    "\n",
    "# pytorch framework\n",
    "import torch\n",
    "import torch.nn as nn\n",
    "import torch.nn.functional as F\n",
    "from torch import optim\n",
    "\n",
    "from torch.utils.data import Dataset, DataLoader, random_split\n",
    "from torchvision import transforms, utils\n",
    "\n",
    "# pytorch-lightning framework\n",
    "import pytorch_lightning as pl\n",
    "\n",
    "# data viz\n",
    "import matplotlib.pyplot as plt\n",
    "import seaborn as sns\n",
    "\n",
    "# utils\n",
    "import os\n",
    "import shutil"
   ]
  },
  {
   "cell_type": "markdown",
   "metadata": {},
   "source": [
    "# Data wrangling"
   ]
  },
  {
   "cell_type": "markdown",
   "metadata": {},
   "source": [
    "## Generating and Preparing Data"
   ]
  },
  {
   "cell_type": "code",
   "execution_count": 2,
   "metadata": {},
   "outputs": [
    {
     "data": {
      "text/plain": [
       "<AxesSubplot:xlabel='n', ylabel='y'>"
      ]
     },
     "execution_count": 2,
     "metadata": {},
     "output_type": "execute_result"
    },
    {
     "data": {
      "image/png": "[encoded data removed]",
      "text/plain": [
       "<Figure size 432x288 with 1 Axes>"
      ]
     },
     "metadata": {
      "needs_background": "light"
     },
     "output_type": "display_data"
    }
   ],
   "source": [
    "n = 100\n",
    "rng = np.random.default_rng()\n",
    "x = np.sin(range(n))\n",
    "white_noise = rng.normal(0,1, n)\n",
    "\n",
    "def ar1_seq(original_seq, coef, noise):\n",
    "    \"\"\" Create a autoregressive of 1 step given an original sequence.\n",
    "    y[n] = coef*y[n-1] + noise.\n",
    "\n",
    "    returns: numpy.array\n",
    "    \"\"\"\n",
    "    y = []\n",
    "    for index, value in enumerate(original_seq):\n",
    "        new_value =  value + coef*x[index - 1]\n",
    "        y.append(new_value)\n",
    "\n",
    "    y = np.array(y) + noise\n",
    "\n",
    "    return(y)\n",
    "\n",
    "\n",
    "y = ar1_seq(x, 0.5, white_noise)\n",
    "y = np.arange(y.shape[0]) + y\n",
    "\n",
    "# Check plotting data\n",
    "df = pd.DataFrame({\n",
    "    'y': y,\n",
    "    'n': range(n)\n",
    "})\n",
    "\n",
    "sns.lineplot(data=df, x='n', y='y')"
   ]
  },
  {
   "cell_type": "code",
   "execution_count": 3,
   "metadata": {},
   "outputs": [
    {
     "data": {
      "text/plain": [
       "<AxesSubplot:>"
      ]
     },
     "execution_count": 3,
     "metadata": {},
     "output_type": "execute_result"
    },
    {
     "data": {
      "image/png": "[encoded data removed]",
      "text/plain": [
       "<Figure size 432x288 with 1 Axes>"
      ]
     },
     "metadata": {
      "needs_background": "light"
     },
     "output_type": "display_data"
    }
   ],
   "source": [
    "minmax = MinMaxScaler()\n",
    "\n",
    "minmax.fit(df['y'].to_numpy().reshape(-1, 1))\n",
    "\n",
    "df['y'] = pd.Series(minmax.transform(df['y'].to_numpy().reshape(-1, 1)).reshape(-1))\n",
    "\n",
    "df['y'].plot()"
   ]
  },
  {
   "cell_type": "markdown",
   "metadata": {},
   "source": [
    "## building dataloaders"
   ]
  },
  {
   "cell_type": "code",
   "execution_count": 4,
   "metadata": {},
   "outputs": [
    {
     "name": "stdout",
     "output_type": "stream",
     "text": [
      "0    0.000000\n",
      "1    0.044622\n",
      "2    0.042701\n",
      "3    0.067662\n",
      "Name: y, dtype: float64\n",
      "tensor([0.0000, 0.0446, 0.0427]) tensor([0.0677])\n",
      "1    0.044622\n",
      "2    0.042701\n",
      "3    0.067662\n",
      "4    0.066474\n",
      "Name: y, dtype: float64\n",
      "tensor([0.0446, 0.0427, 0.0677]) tensor([0.0665])\n",
      "2    0.042701\n",
      "3    0.067662\n",
      "4    0.066474\n",
      "5    0.045569\n",
      "Name: y, dtype: float64\n",
      "tensor([0.0427, 0.0677, 0.0665]) tensor([0.0456])\n"
     ]
    }
   ],
   "source": [
    "class ToTensor(object):\n",
    "    def __call__(self, sample):\n",
    "        return torch.from_numpy(sample).float()\n",
    "\n",
    "\n",
    "class SequenceData(Dataset):\n",
    "    def __init__(self, y:np.array, transform=None, k:int=1, forecast=False):\n",
    "        \n",
    "        self.y = y.copy()\n",
    "        self.transform = transform\n",
    "        self.k = k\n",
    "        self.forecast = forecast\n",
    "    \n",
    "    def __len__(self):\n",
    "        return len(self.y)-self.k\n",
    "    \n",
    "    def __getitem__(self, idx):\n",
    "        if torch.is_tensor(idx):\n",
    "            idx = idx.tolist()\n",
    "        k = self.k\n",
    "        sample = {}\n",
    "        if not self.forecast:\n",
    "            sample['y'] = self.y[[idx+k]]\n",
    "        sample['x'] = self.y[(idx):(idx+k)]\n",
    "\n",
    "        if self.transform:\n",
    "            sample['x'] = self.transform(sample['x'])\n",
    "            if sample.get('y'):\n",
    "                sample['y'] = self.transform(sample['y'])\n",
    "        \n",
    "        return sample\n",
    "        \n",
    "K = 3\n",
    "seq_dataset = SequenceData(\n",
    "    y = df['y'].to_numpy(),\n",
    "    transform=ToTensor(),\n",
    "    k = K\n",
    ")\n",
    "\n",
    "for index, i in enumerate(seq_dataset):\n",
    "    y, x = i['y'], i['x']\n",
    "    print(df['y'].iloc[index:(index + K + 1)])\n",
    "    print(x, y)\n",
    "    if index == 2:\n",
    "        break"
   ]
  },
  {
   "cell_type": "code",
   "execution_count": 5,
   "metadata": {},
   "outputs": [],
   "source": [
    "dataset_dict = {\n",
    "    'train': (\n",
    "        SequenceData(\n",
    "            y = df['y'][:-20].to_numpy(),\n",
    "            transform=ToTensor(),\n",
    "            k = K\n",
    "        )\n",
    "    ),\n",
    "    'val': (\n",
    "        SequenceData(\n",
    "            y = df['y'][-20:].to_numpy(),\n",
    "            transform=ToTensor(),\n",
    "            k = K\n",
    "        )\n",
    "    )\n",
    "}"
   ]
  },
  {
   "cell_type": "markdown",
   "metadata": {},
   "source": [
    "# Modelling"
   ]
  },
  {
   "cell_type": "code",
   "execution_count": 6,
   "metadata": {},
   "outputs": [
    {
     "name": "stderr",
     "output_type": "stream",
     "text": [
      "GPU available: False, used: False\n",
      "TPU available: False, using: 0 TPU cores\n",
      "IPU available: False, using: 0 IPUs\n",
      "\n",
      "  | Name      | Type    | Params\n",
      "--------------------------------------\n",
      "0 | criterion | MSELoss | 0     \n",
      "1 | rnn       | RNN     | 10    \n",
      "2 | fc        | Linear  | 3     \n",
      "--------------------------------------\n",
      "13        Trainable params\n",
      "0         Non-trainable params\n",
      "13        Total params\n",
      "0.000     Total estimated model params size (MB)\n"
     ]
    },
    {
     "name": "stdout",
     "output_type": "stream",
     "text": [
      "Epoch 19: 100%|██████████| 94/94 [00:00<00:00, 109.19it/s, loss=0.000387, v_num=0, val_loss=0.001]   \n"
     ]
    }
   ],
   "source": [
    "class RNN(pl.LightningModule):\n",
    "    def __init__(self, input_size, output_size, hidden_dim, n_layers, dataset_dict):\n",
    "        super(RNN, self).__init__()\n",
    "\n",
    "        self.dataset_dict = dataset_dict\n",
    "\n",
    "        self.criterion = nn.MSELoss()\n",
    "\n",
    "        self.hidden_dim = hidden_dim\n",
    "        self.n_layers = n_layers\n",
    "        self.input_size = input_size\n",
    "\n",
    "        self.rnn = nn.RNN(input_size, hidden_dim, n_layers, batch_first=True)\n",
    "\n",
    "        self.fc = nn.Linear(hidden_dim, output_size)\n",
    "        \n",
    "    def forward(self, x):\n",
    "        # x (batch_size, seq_length, input_size)\n",
    "        # hidden (n_layers, batch_size, hidden_dim)\n",
    "        # rnn_out_raw (batch_size, seq_length, hidden_dim)\n",
    "        # rnn_out (batch_size * seq_length, hidden_dim)\n",
    "\n",
    "        # input size of 1\n",
    "        x = x.unsqueeze(-1)\n",
    "\n",
    "        outs, hidden = self.rnn(x)\n",
    "        # get the last hidden output with the \"hidden\" variable\n",
    "        rnn_out = hidden.reshape(-1, self.hidden_dim)\n",
    "        \n",
    "        output = self.fc(rnn_out)\n",
    "        \n",
    "        return output\n",
    "\n",
    "    def training_step(self, batch, batch_idx):\n",
    "        x, y = batch['x'], batch['y']\n",
    "\n",
    "        y_hat= self(x)\n",
    "        loss = self.criterion(y_hat, y)\n",
    "        self.log(\"train_loss\", loss)\n",
    "        return loss\n",
    "    \n",
    "    def validation_step(self, batch, batch_idx):\n",
    "        x, y = batch['x'], batch['y']\n",
    "\n",
    "        y_hat = self(x)\n",
    "        loss = self.criterion(y_hat, y)\n",
    "        self.log(\"val_loss\", loss, prog_bar=True)\n",
    "        return loss\n",
    "\n",
    "    def configure_optimizers(self):\n",
    "        optimizer = torch.optim.Adam(self.parameters(), lr=0.01)\n",
    "        return optimizer\n",
    "    \n",
    "    def train_dataloader(self):\n",
    "        return DataLoader(\n",
    "            self.dataset_dict['train'],\n",
    "            batch_size=1,\n",
    "            num_workers=os.cpu_count(),\n",
    "            shuffle=False\n",
    "        )\n",
    "    \n",
    "    def val_dataloader(self):\n",
    "        return DataLoader(\n",
    "            self.dataset_dict['val'],\n",
    "            batch_size=1,\n",
    "            num_workers=os.cpu_count(),\n",
    "            shuffle=False\n",
    "        )\n",
    "\n",
    "model = RNN(\n",
    "    input_size=1,\n",
    "    output_size=1,\n",
    "    hidden_dim=2,\n",
    "    n_layers=1,\n",
    "    dataset_dict=dataset_dict\n",
    "    \n",
    ")\n",
    "\n",
    "shutil.rmtree('../lightning_logs', ignore_errors=True)\n",
    "\n",
    "trainer = pl.Trainer(\n",
    "    default_root_dir='../',\n",
    "    log_every_n_steps=5,\n",
    "    max_epochs=20,\n",
    "    enable_progress_bar=True\n",
    ")\n",
    "\n",
    "trainer.fit(model)"
   ]
  },
  {
   "cell_type": "markdown",
   "metadata": {},
   "source": [
    "# Forecasting"
   ]
  },
  {
   "cell_type": "code",
   "execution_count": 7,
   "metadata": {},
   "outputs": [],
   "source": [
    "@torch.no_grad()\n",
    "def forecast(model, x, k=1):\n",
    "    x = x.reshape(1, -1)\n",
    "    yhat, hidden = model(x)\n",
    "\n",
    "    if k == 1:\n",
    "        return yhat.numpy().flatten()\n",
    "\n",
    "    yhat_results = np.zeros(k)\n",
    "    yhat_results[0] = yhat\n",
    "\n",
    "    print('0', x)\n",
    "    old = x.clone()\n",
    "    new = x.clone()\n",
    "    for i in range(1, k):\n",
    "        new[:, 0:2] = old[:, 1:3]\n",
    "        new[:, -1] = yhat\n",
    "        print(i, new)\n",
    "\n",
    "        yhat, hidden = model(new)\n",
    "        yhat = yhat\n",
    "\n",
    "        old = new.clone()\n",
    "\n",
    "        yhat_results[i] = yhat\n",
    "\n",
    "    return yhat_results"
   ]
  },
  {
   "cell_type": "code",
   "execution_count": 8,
   "metadata": {},
   "outputs": [
    {
     "name": "stdout",
     "output_type": "stream",
     "text": [
      "torch.Size([77, 1]) torch.Size([77, 3])\n",
      "torch.Size([77, 1])\n"
     ]
    },
    {
     "data": {
      "text/plain": [
       "<AxesSubplot:>"
      ]
     },
     "execution_count": 8,
     "metadata": {},
     "output_type": "execute_result"
    },
    {
     "data": {
      "image/png": "[encoded data removed]",
      "text/plain": [
       "<Figure size 432x288 with 1 Axes>"
      ]
     },
     "metadata": {
      "needs_background": "light"
     },
     "output_type": "display_data"
    }
   ],
   "source": [
    "for i in DataLoader(\n",
    "    dataset_dict['train'],\n",
    "    batch_size=len(dataset_dict['train']),\n",
    "    num_workers=os.cpu_count(),\n",
    "    shuffle=False\n",
    "):\n",
    "    y_train, x_train = i['y'], i['x']\n",
    "    print(y_train.shape, x_train.shape)\n",
    "\n",
    "with torch.no_grad():\n",
    "    out = model(x_train)\n",
    "    print(out.shape)\n",
    "\n",
    "pd.Series(out.numpy().flatten()).plot()\n",
    "pd.Series(y_train.numpy().flatten()).plot()"
   ]
  },
  {
   "cell_type": "code",
   "execution_count": 9,
   "metadata": {},
   "outputs": [
    {
     "name": "stdout",
     "output_type": "stream",
     "text": [
      "torch.Size([17, 1]) torch.Size([17, 3])\n",
      "torch.Size([17, 1])\n"
     ]
    },
    {
     "data": {
      "text/plain": [
       "<AxesSubplot:>"
      ]
     },
     "execution_count": 9,
     "metadata": {},
     "output_type": "execute_result"
    },
    {
     "data": {
      "image/png": "[encoded data removed]",
      "text/plain": [
       "<Figure size 432x288 with 1 Axes>"
      ]
     },
     "metadata": {
      "needs_background": "light"
     },
     "output_type": "display_data"
    }
   ],
   "source": [
    "for i in DataLoader(\n",
    "    dataset_dict['val'],\n",
    "    batch_size=len(dataset_dict['val']),\n",
    "    num_workers=os.cpu_count(),\n",
    "    shuffle=False\n",
    "):\n",
    "    y_val, x_val = i['y'], i['x']\n",
    "    print(y_val.shape, x_val.shape)\n",
    "\n",
    "with torch.no_grad():\n",
    "    out = model(x_val)\n",
    "    print(out.shape)\n",
    "\n",
    "pd.Series(out.numpy().flatten()).plot()\n",
    "pd.Series(y_val.numpy().flatten()).plot()"
   ]
  }
 ],
 "metadata": {
  "kernelspec": {
   "display_name": "Python 3",
   "name": "python3"
  },
  "language_info": {
   "codemirror_mode": {
    "name": "ipython",
    "version": 3
   },
   "file_extension": ".py",
   "mimetype": "text/x-python",
   "name": "python",
   "nbconvert_exporter": "python",
   "pygments_lexer": "ipython3",
   "version": "3.8.10"
  },
  "orig_nbformat": 2
 },
 "nbformat": 4,
 "nbformat_minor": 2
}
